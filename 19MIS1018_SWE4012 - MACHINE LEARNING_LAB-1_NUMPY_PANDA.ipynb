{
 "cells": [
  {
   "cell_type": "markdown",
   "id": "26f46fa7",
   "metadata": {},
   "source": [
    "# NAME: B DEVI PRASAD  "
   ]
  },
  {
   "cell_type": "markdown",
   "id": "f808912b",
   "metadata": {},
   "source": [
    "# REG NO: 19MIS1018"
   ]
  },
  {
   "cell_type": "markdown",
   "id": "a3cb308d",
   "metadata": {},
   "source": [
    "# SLOT: L13+L14"
   ]
  },
  {
   "cell_type": "markdown",
   "id": "679bbdac",
   "metadata": {},
   "source": [
    "# Faculty: Prof.  BHARADWAJA KUMAR"
   ]
  },
  {
   "cell_type": "markdown",
   "id": "f2d23f14",
   "metadata": {},
   "source": [
    "# TOPIC : PYTHON_PACKAGES(NUMPY_PANDAS)\n"
   ]
  },
  {
   "cell_type": "markdown",
   "id": "8b5b127b",
   "metadata": {},
   "source": [
    "# NUMPY\n",
    "Arrays- Structured list of Numbers\n",
    "Vectors(1-D array), matrix(2-D,3-D array), Images(array of pixels value), Tensors(Combination of matrices value), convnets"
   ]
  },
  {
   "cell_type": "code",
   "execution_count": 1,
   "id": "6825a570",
   "metadata": {},
   "outputs": [
    {
     "name": "stdout",
     "output_type": "stream",
     "text": [
      "[[45, 32, 12, 89], [52, 63, 17, 80]]\n",
      "<class 'list'>\n",
      "[[45 32 12 89]\n",
      " [52 63 17 80]]\n",
      "<class 'numpy.ndarray'>\n"
     ]
    }
   ],
   "source": [
    "import numpy as np\n",
    "d=[[45,32,12,89],[52,63,17,80]]\n",
    "print(d)\n",
    "print(type(d))\n",
    "arr = np.array(d)\n",
    "print(arr)\n",
    "print(type(arr))"
   ]
  },
  {
   "cell_type": "code",
   "execution_count": 2,
   "id": "bde38fdb",
   "metadata": {},
   "outputs": [
    {
     "name": "stdout",
     "output_type": "stream",
     "text": [
      "Dimension:  (2, 4)\n",
      "Rows:  2\n",
      "Columns:  4\n",
      "Length:  2\n"
     ]
    }
   ],
   "source": [
    "dimension=arr.shape\n",
    "rows=arr.shape[0]\n",
    "columns=arr.shape[1]\n",
    "tot=len(arr)\n",
    "print(\"Dimension: \",dimension)\n",
    "print(\"Rows: \",rows)\n",
    "print(\"Columns: \",columns)\n",
    "#print(\"Channels: \",channels)\n",
    "print(\"Length: \",tot)"
   ]
  },
  {
   "cell_type": "code",
   "execution_count": 3,
   "id": "e46726e7",
   "metadata": {},
   "outputs": [
    {
     "name": "stdout",
     "output_type": "stream",
     "text": [
      "int32\n"
     ]
    }
   ],
   "source": [
    "print(arr.dtype)"
   ]
  },
  {
   "cell_type": "code",
   "execution_count": 4,
   "id": "543090ad",
   "metadata": {},
   "outputs": [
    {
     "name": "stdout",
     "output_type": "stream",
     "text": [
      "[[0. 0. 0. 0. 0. 0.]\n",
      " [0. 0. 0. 0. 0. 0.]\n",
      " [0. 0. 0. 0. 0. 0.]]\n"
     ]
    }
   ],
   "source": [
    "arr2 = np.zeros((3,6)) \n",
    "print(arr2)"
   ]
  },
  {
   "cell_type": "code",
   "execution_count": 5,
   "id": "36c484df",
   "metadata": {},
   "outputs": [
    {
     "name": "stdout",
     "output_type": "stream",
     "text": [
      "[0 1 2 3 4 5 6 7 8 9]\n"
     ]
    }
   ],
   "source": [
    "arr3 = np.arange(10)\n",
    "print(arr3)"
   ]
  },
  {
   "cell_type": "code",
   "execution_count": 6,
   "id": "7e8509c6",
   "metadata": {},
   "outputs": [
    {
     "data": {
      "text/plain": [
       "array([[1., 1., 1., 1., 1.],\n",
       "       [1., 1., 1., 1., 1.]])"
      ]
     },
     "execution_count": 6,
     "metadata": {},
     "output_type": "execute_result"
    }
   ],
   "source": [
    "z=np.ones((2,5))\n",
    "z"
   ]
  },
  {
   "cell_type": "code",
   "execution_count": 7,
   "id": "dd9cf022",
   "metadata": {},
   "outputs": [
    {
     "data": {
      "text/plain": [
       "array([[1., 0., 0., 0., 0.],\n",
       "       [0., 1., 0., 0., 0.],\n",
       "       [0., 0., 1., 0., 0.],\n",
       "       [0., 0., 0., 1., 0.],\n",
       "       [0., 0., 0., 0., 1.]])"
      ]
     },
     "execution_count": 7,
     "metadata": {},
     "output_type": "execute_result"
    }
   ],
   "source": [
    "z=np.eye(5,5)\n",
    "z"
   ]
  },
  {
   "cell_type": "code",
   "execution_count": 8,
   "id": "3d827c29",
   "metadata": {},
   "outputs": [
    {
     "data": {
      "text/plain": [
       "array([[89, 89, 89],\n",
       "       [89, 89, 89],\n",
       "       [89, 89, 89]])"
      ]
     },
     "execution_count": 8,
     "metadata": {},
     "output_type": "execute_result"
    }
   ],
   "source": [
    "v = 89\n",
    "z=np.full((3,3),v)\n",
    "z"
   ]
  },
  {
   "cell_type": "code",
   "execution_count": 9,
   "id": "42f16bf5",
   "metadata": {},
   "outputs": [
    {
     "name": "stdout",
     "output_type": "stream",
     "text": [
      "[[1 1 1]\n",
      " [1 1 1]\n",
      " [1 1 1]]\n",
      "[[0 0 0]\n",
      " [0 0 0]\n",
      " [0 0 0]]\n"
     ]
    }
   ],
   "source": [
    "z1=np.ones_like(z) \n",
    "print(z1)\n",
    "z2=np.zeros_like(z)\n",
    "print(z2)"
   ]
  },
  {
   "cell_type": "code",
   "execution_count": 10,
   "id": "cce132dd",
   "metadata": {},
   "outputs": [
    {
     "name": "stdout",
     "output_type": "stream",
     "text": [
      "[[0.39958795 0.49727174 0.4681512 ]\n",
      " [0.93646492 0.93541213 0.88824998]\n",
      " [0.02316568 0.38261328 0.31388912]\n",
      " [0.19335246 0.87360255 0.89478479]\n",
      " [0.62916518 0.3856495  0.0267111 ]]\n"
     ]
    }
   ],
   "source": [
    "z=np.random.rand(5,3)\n",
    "print(z)"
   ]
  },
  {
   "cell_type": "markdown",
   "id": "124d46de",
   "metadata": {},
   "source": [
    "# Array - Slicing"
   ]
  },
  {
   "cell_type": "code",
   "execution_count": 11,
   "id": "827529dd",
   "metadata": {},
   "outputs": [
    {
     "data": {
      "text/plain": [
       "[62, 74, 60, 57]"
      ]
     },
     "execution_count": 11,
     "metadata": {},
     "output_type": "execute_result"
    }
   ],
   "source": [
    "arr=[11,22,43,42,64,91,62,74,60,57]\n",
    "arr[6:10]"
   ]
  },
  {
   "cell_type": "code",
   "execution_count": 12,
   "id": "6e5a3c8c",
   "metadata": {},
   "outputs": [
    {
     "data": {
      "text/plain": [
       "array([[12, 29, 31, 43],\n",
       "       [51, 63, 30, 71],\n",
       "       [ 7,  8, 10,  6]])"
      ]
     },
     "execution_count": 12,
     "metadata": {},
     "output_type": "execute_result"
    }
   ],
   "source": [
    "arr=np.array([[12,29,31,43],[51,63,30,71],[7,8,10,6]])\n",
    "arr"
   ]
  },
  {
   "cell_type": "code",
   "execution_count": 13,
   "id": "7da439be",
   "metadata": {},
   "outputs": [
    {
     "data": {
      "text/plain": [
       "array([[51, 63],\n",
       "       [ 7,  8]])"
      ]
     },
     "execution_count": 13,
     "metadata": {},
     "output_type": "execute_result"
    }
   ],
   "source": [
    "b=arr[1:3,:2]\n",
    "b"
   ]
  },
  {
   "cell_type": "code",
   "execution_count": 14,
   "id": "653f3cfa",
   "metadata": {},
   "outputs": [
    {
     "data": {
      "text/plain": [
       "array([[ 0, 63],\n",
       "       [ 7,  8]])"
      ]
     },
     "execution_count": 14,
     "metadata": {},
     "output_type": "execute_result"
    }
   ],
   "source": [
    "b[0][0]=0\n",
    "b"
   ]
  },
  {
   "cell_type": "code",
   "execution_count": 15,
   "id": "33374c2d",
   "metadata": {},
   "outputs": [
    {
     "data": {
      "text/plain": [
       "array([[12, 29, 31, 43],\n",
       "       [ 0, 63, 30, 71],\n",
       "       [ 7,  8, 10,  6]])"
      ]
     },
     "execution_count": 15,
     "metadata": {},
     "output_type": "execute_result"
    }
   ],
   "source": [
    "arr"
   ]
  },
  {
   "cell_type": "code",
   "execution_count": 16,
   "id": "4ab12381",
   "metadata": {},
   "outputs": [
    {
     "data": {
      "text/plain": [
       "array([ 0,  1,  2,  3,  4,  5, 19, 19,  8,  9])"
      ]
     },
     "execution_count": 16,
     "metadata": {},
     "output_type": "execute_result"
    }
   ],
   "source": [
    "arr3 = np.arange(10)\n",
    "arr3[6:8]=19\n",
    "arr3"
   ]
  },
  {
   "cell_type": "code",
   "execution_count": 17,
   "id": "be6679b8",
   "metadata": {},
   "outputs": [
    {
     "data": {
      "text/plain": [
       "array([ 0,  1,  2,  3,  4,  5, 19, 19,  8,  9])"
      ]
     },
     "execution_count": 17,
     "metadata": {},
     "output_type": "execute_result"
    }
   ],
   "source": [
    "ss = np.array([[arr3[1],arr3[2],arr3[3]]])\n",
    "ss[0]=3\n",
    "arr3"
   ]
  },
  {
   "cell_type": "markdown",
   "id": "3028a2fa",
   "metadata": {},
   "source": [
    "# Reshape, transpose & Sign"
   ]
  },
  {
   "cell_type": "code",
   "execution_count": 18,
   "id": "4143e7d3",
   "metadata": {},
   "outputs": [
    {
     "name": "stdout",
     "output_type": "stream",
     "text": [
      "[[0 1 2 3 4]\n",
      " [5 6 7 8 9]]\n"
     ]
    }
   ],
   "source": [
    "re_arr= np.arange(10).reshape(2,5)\n",
    "print(re_arr)"
   ]
  },
  {
   "cell_type": "code",
   "execution_count": 19,
   "id": "8de95f56",
   "metadata": {},
   "outputs": [
    {
     "data": {
      "text/plain": [
       "array([[5, 6, 7, 8, 9]])"
      ]
     },
     "execution_count": 19,
     "metadata": {},
     "output_type": "execute_result"
    }
   ],
   "source": [
    "re_arr[1:]"
   ]
  },
  {
   "cell_type": "code",
   "execution_count": 20,
   "id": "5bda7ce0",
   "metadata": {},
   "outputs": [
    {
     "data": {
      "text/plain": [
       "array([[0, 5],\n",
       "       [1, 6],\n",
       "       [2, 7],\n",
       "       [3, 8],\n",
       "       [4, 9]])"
      ]
     },
     "execution_count": 20,
     "metadata": {},
     "output_type": "execute_result"
    }
   ],
   "source": [
    "re_arr.T"
   ]
  },
  {
   "cell_type": "code",
   "execution_count": 21,
   "id": "6ea6d7eb",
   "metadata": {},
   "outputs": [
    {
     "data": {
      "text/plain": [
       "array([[ 1, -1,  1],\n",
       "       [-1,  1,  1]])"
      ]
     },
     "execution_count": 21,
     "metadata": {},
     "output_type": "execute_result"
    }
   ],
   "source": [
    "arr = np.array([[10,-33,40],[-61,73,10]])\n",
    "np.sign(arr)"
   ]
  },
  {
   "cell_type": "code",
   "execution_count": 22,
   "id": "58e6e6fd",
   "metadata": {},
   "outputs": [
    {
     "name": "stdout",
     "output_type": "stream",
     "text": [
      "[[4.24264069 4.79583152 6.4807407 ]\n",
      " [8.18535277 8.60232527 9.05538514]]\n"
     ]
    }
   ],
   "source": [
    "arr = np.array([[18,23,42],[67,74,82]])\n",
    "print(np.sqrt(arr))\n",
    "arr2 =np.sqrt(arr)"
   ]
  },
  {
   "cell_type": "code",
   "execution_count": 23,
   "id": "4ce3e2f2",
   "metadata": {},
   "outputs": [
    {
     "name": "stdout",
     "output_type": "stream",
     "text": [
      "[[4. 4. 6.]\n",
      " [8. 8. 9.]]\n",
      "\n",
      "\n",
      "[[ 5.  5.  7.]\n",
      " [ 9.  9. 10.]]\n"
     ]
    }
   ],
   "source": [
    "print(np.floor(arr2))\n",
    "print('\\n')\n",
    "print(np.ceil(arr2))"
   ]
  },
  {
   "cell_type": "code",
   "execution_count": 24,
   "id": "6f1110f8",
   "metadata": {},
   "outputs": [
    {
     "name": "stdout",
     "output_type": "stream",
     "text": [
      "[[4. 5. 6.]\n",
      " [8. 9. 9.]]\n"
     ]
    }
   ],
   "source": [
    "print(np.round(arr2))"
   ]
  },
  {
   "cell_type": "code",
   "execution_count": 25,
   "id": "930f66a7",
   "metadata": {},
   "outputs": [
    {
     "name": "stdout",
     "output_type": "stream",
     "text": [
      "[[1.44518588 1.56774711 1.86883481]\n",
      " [2.10234631 2.15203255 2.20335962]]\n"
     ]
    }
   ],
   "source": [
    "print(np.log(arr2))"
   ]
  },
  {
   "cell_type": "markdown",
   "id": "b8a5495b",
   "metadata": {},
   "source": [
    "# Binary Functions"
   ]
  },
  {
   "cell_type": "code",
   "execution_count": 26,
   "id": "356ec021",
   "metadata": {},
   "outputs": [
    {
     "name": "stdout",
     "output_type": "stream",
     "text": [
      "[ 75  94 102]\n",
      "[ 13 -32 -56]\n",
      "[1364 1953 1817]\n",
      "[1.41935484 0.49206349 0.29113924]\n",
      "[13 31 23]\n"
     ]
    }
   ],
   "source": [
    "a = np.array([44,31,23])\n",
    "b=  np.array([31,63,79])\n",
    "print(np.add(a,b))\n",
    "print(np.subtract(a,b))\n",
    "print(np.multiply(a,b))\n",
    "print(np.divide(a,b))\n",
    "print(np.mod(a,b))"
   ]
  },
  {
   "cell_type": "code",
   "execution_count": 27,
   "id": "c1806106",
   "metadata": {},
   "outputs": [
    {
     "name": "stdout",
     "output_type": "stream",
     "text": [
      "Multiply:  [[1551 1023  726]\n",
      " [3102 2046 1452]\n",
      " [3619 2387 1694]]\n",
      "Dot:  [5291]\n"
     ]
    }
   ],
   "source": [
    "a = np.array([47,31,22])\n",
    "b=  np.array([[33],[66],[77]])\n",
    "print(\"Multiply: \" ,np.multiply(a,b))\n",
    "print(\"Dot: \",a.dot(b))"
   ]
  },
  {
   "cell_type": "markdown",
   "id": "0a3c33d8",
   "metadata": {},
   "source": [
    "# Logical Functions"
   ]
  },
  {
   "cell_type": "code",
   "execution_count": 28,
   "id": "3714aad9",
   "metadata": {},
   "outputs": [
    {
     "name": "stdout",
     "output_type": "stream",
     "text": [
      "[47 31 22]\n",
      "[[33]\n",
      " [66]\n",
      " [77]]\n",
      "[[ True False False]\n",
      " [False False False]\n",
      " [False False False]]\n",
      "[[False  True  True]\n",
      " [ True  True  True]\n",
      " [ True  True  True]]\n",
      "[[ True False False]\n",
      " [False False False]\n",
      " [False False False]]\n",
      "[[False False False]\n",
      " [False False False]\n",
      " [False False False]]\n"
     ]
    }
   ],
   "source": [
    "print(a)\n",
    "print(b)\n",
    "print(np.greater(a,b))\n",
    "print(np.less(a,b))\n",
    "print(np.greater_equal(a,b))\n",
    "print(np.equal(a,b))"
   ]
  },
  {
   "cell_type": "markdown",
   "id": "41e46f02",
   "metadata": {},
   "source": [
    "# Statistics Functions"
   ]
  },
  {
   "cell_type": "code",
   "execution_count": 29,
   "id": "407273f8",
   "metadata": {},
   "outputs": [
    {
     "name": "stdout",
     "output_type": "stream",
     "text": [
      "35.0\n",
      "17.60050504325878\n",
      "309.77777777777777\n"
     ]
    }
   ],
   "source": [
    "arr = np.array([[13,21,35],[36,27,58],[51,12,62]])\n",
    "print(np.mean(arr))  \n",
    "print(np.std(arr))  \n",
    "print(np.var(arr))"
   ]
  },
  {
   "cell_type": "markdown",
   "id": "bc57e42f",
   "metadata": {},
   "source": [
    "# Append"
   ]
  },
  {
   "cell_type": "code",
   "execution_count": 30,
   "id": "912af4a5",
   "metadata": {},
   "outputs": [
    {
     "data": {
      "text/plain": [
       "array([[12,  2,  3],\n",
       "       [ 3,  2,  5],\n",
       "       [ 5, 26, 32],\n",
       "       [ 1,  8,  9]])"
      ]
     },
     "execution_count": 30,
     "metadata": {},
     "output_type": "execute_result"
    }
   ],
   "source": [
    "a= np.array([[12,2,3],[3,2,5]])\n",
    "b= np.array([[5,26,32],[1,8,9]])\n",
    "np.append(a,b,axis=0)"
   ]
  },
  {
   "cell_type": "code",
   "execution_count": 31,
   "id": "7670cea6",
   "metadata": {},
   "outputs": [
    {
     "data": {
      "text/plain": [
       "array([[51, 21, 36, 50, 26, 32],\n",
       "       [31, 27, 59, 10, 81, 90]])"
      ]
     },
     "execution_count": 31,
     "metadata": {},
     "output_type": "execute_result"
    }
   ],
   "source": [
    "a= np.array([[51,21,36],[31,27,59]])\n",
    "b= np.array([[50,26,32],[10,81,90]])\n",
    "np.append(a,b,axis=1)"
   ]
  },
  {
   "cell_type": "markdown",
   "id": "7b951d47",
   "metadata": {},
   "source": [
    "# Broadcasting"
   ]
  },
  {
   "cell_type": "code",
   "execution_count": 32,
   "id": "376049f3",
   "metadata": {},
   "outputs": [
    {
     "data": {
      "text/plain": [
       "array([[11, 22, 33],\n",
       "       [44, 55, 66],\n",
       "       [77, 88, 99]])"
      ]
     },
     "execution_count": 32,
     "metadata": {},
     "output_type": "execute_result"
    }
   ],
   "source": [
    "x=np.array([[11,22,33],[44,55,66],[77,88,99]])\n",
    "x"
   ]
  },
  {
   "cell_type": "code",
   "execution_count": 33,
   "id": "f36b6e57",
   "metadata": {},
   "outputs": [
    {
     "data": {
      "text/plain": [
       "array([[1, 0, 1]])"
      ]
     },
     "execution_count": 33,
     "metadata": {},
     "output_type": "execute_result"
    }
   ],
   "source": [
    "v=np.array([[1,0,1]])\n",
    "v"
   ]
  },
  {
   "cell_type": "code",
   "execution_count": 34,
   "id": "b8b9d557",
   "metadata": {},
   "outputs": [
    {
     "data": {
      "text/plain": [
       "array([[ 12,  22,  34],\n",
       "       [ 45,  55,  67],\n",
       "       [ 78,  88, 100]])"
      ]
     },
     "execution_count": 34,
     "metadata": {},
     "output_type": "execute_result"
    }
   ],
   "source": [
    "y=np.empty_like(x)\n",
    "for i in range(len(x)):\n",
    "    y[i,:] = x[i,:]+v[:]\n",
    "y   "
   ]
  },
  {
   "cell_type": "markdown",
   "id": "8ad375f9",
   "metadata": {},
   "source": [
    "# Combining Arrays\n",
    "1)Vertical Stack -\n",
    "\n",
    "Combines array vertically i.e places the second array below first array.\n",
    "\n",
    "The two arrays should have same no of columns.\n",
    "2) Horizontal stack-\n",
    "\n",
    "Combines array horizontally i.e places the second array to the right of first array."
   ]
  },
  {
   "cell_type": "code",
   "execution_count": 35,
   "id": "cdf20d4d",
   "metadata": {},
   "outputs": [
    {
     "data": {
      "text/plain": [
       "array([[ 1,  2,  3],\n",
       "       [ 9, 22, 36]])"
      ]
     },
     "execution_count": 35,
     "metadata": {},
     "output_type": "execute_result"
    }
   ],
   "source": [
    "a1=np.array([[1,2,3]])\n",
    "a2=np.array([[9,22,36]])\n",
    "np.vstack((a1,a2))"
   ]
  },
  {
   "cell_type": "code",
   "execution_count": 36,
   "id": "e94dccd7",
   "metadata": {},
   "outputs": [
    {
     "data": {
      "text/plain": [
       "array([[ 1,  2,  3,  9, 22, 36]])"
      ]
     },
     "execution_count": 36,
     "metadata": {},
     "output_type": "execute_result"
    }
   ],
   "source": [
    "a1=np.array([[1,2,3]])\n",
    "a2=np.array([[9,22,36]])\n",
    "np.hstack((a1,a2))"
   ]
  },
  {
   "cell_type": "markdown",
   "id": "36354b76",
   "metadata": {},
   "source": [
    "# Pandas \n",
    "is the standard python library to work with dataframes. Unlike in R, \n",
    "this is not a part of base python and must be imported separately. \n",
    "It is typically imported as pd:import pandas as pd"
   ]
  },
  {
   "cell_type": "code",
   "execution_count": 37,
   "id": "a13ab744",
   "metadata": {
    "scrolled": true
   },
   "outputs": [
    {
     "data": {
      "text/plain": [
       "[('ID', ['CAT-1', 'CAT-2', 'DA-1', 'DA-2', 'DA-3', 'FAT']),\n",
       " ('Calculas', [45, 23, 10, 9, 10, 56]),\n",
       " ('Ethics', [32, 45, 10, 7, 6.5, 45]),\n",
       " ('SoftwareProjectManagent', [25, 28, 9, 7, 10, 76.5])]"
      ]
     },
     "execution_count": 37,
     "metadata": {},
     "output_type": "execute_result"
    }
   ],
   "source": [
    "import pandas as pd\n",
    "list1=['CAT-1','CAT-2','DA-1','DA-2','DA-3','FAT']\n",
    "Calculas=[45,23,10,9,10,56]\n",
    "Ethics=[32,45,10,7,6.5,45]\n",
    "SoftwareProjectManagent=[25,28,9,7,10,76.5]\n",
    "titles=['ID','Calculas','Ethics','SoftwareProjectManagent']\n",
    "values=[list1,Calculas,Ethics,SoftwareProjectManagent]\n",
    "result=list(zip(titles,values))\n",
    "result"
   ]
  },
  {
   "cell_type": "code",
   "execution_count": 38,
   "id": "7e4c82f6",
   "metadata": {},
   "outputs": [
    {
     "name": "stdout",
     "output_type": "stream",
     "text": [
      "      ID  Calculas  Ethics  SoftwareProjectManagent\n",
      "0  CAT-1        45    32.0                     25.0\n",
      "1  CAT-2        23    45.0                     28.0\n",
      "2   DA-1        10    10.0                      9.0\n",
      "3   DA-2         9     7.0                      7.0\n",
      "4   DA-3        10     6.5                     10.0\n",
      "5    FAT        56    45.0                     76.5\n"
     ]
    }
   ],
   "source": [
    "result1=dict(result)\n",
    "df1=pd.DataFrame(result1)\n",
    "print(df1)"
   ]
  },
  {
   "cell_type": "code",
   "execution_count": 39,
   "id": "9b2bf790",
   "metadata": {},
   "outputs": [
    {
     "data": {
      "text/html": [
       "<div>\n",
       "<style scoped>\n",
       "    .dataframe tbody tr th:only-of-type {\n",
       "        vertical-align: middle;\n",
       "    }\n",
       "\n",
       "    .dataframe tbody tr th {\n",
       "        vertical-align: top;\n",
       "    }\n",
       "\n",
       "    .dataframe thead th {\n",
       "        text-align: right;\n",
       "    }\n",
       "</style>\n",
       "<table border=\"1\" class=\"dataframe\">\n",
       "  <thead>\n",
       "    <tr style=\"text-align: right;\">\n",
       "      <th></th>\n",
       "      <th>Sl.No</th>\n",
       "      <th>StudnetName</th>\n",
       "      <th>CAT-1</th>\n",
       "      <th>CAT-2</th>\n",
       "      <th>DA-1</th>\n",
       "      <th>DA-2</th>\n",
       "      <th>DA-3</th>\n",
       "      <th>FAT</th>\n",
       "    </tr>\n",
       "  </thead>\n",
       "  <tbody>\n",
       "    <tr>\n",
       "      <th>0</th>\n",
       "      <td>1</td>\n",
       "      <td>DeviPrasad</td>\n",
       "      <td>32.0</td>\n",
       "      <td>23.4</td>\n",
       "      <td>10.0</td>\n",
       "      <td>10</td>\n",
       "      <td>8.33</td>\n",
       "      <td>58.0</td>\n",
       "    </tr>\n",
       "    <tr>\n",
       "      <th>1</th>\n",
       "      <td>2</td>\n",
       "      <td>Dellip</td>\n",
       "      <td>25.0</td>\n",
       "      <td>33.0</td>\n",
       "      <td>7.0</td>\n",
       "      <td>9</td>\n",
       "      <td>10.00</td>\n",
       "      <td>67.0</td>\n",
       "    </tr>\n",
       "    <tr>\n",
       "      <th>2</th>\n",
       "      <td>3</td>\n",
       "      <td>Gayathri</td>\n",
       "      <td>32.6</td>\n",
       "      <td>44.0</td>\n",
       "      <td>7.6</td>\n",
       "      <td>10</td>\n",
       "      <td>10.00</td>\n",
       "      <td>92.0</td>\n",
       "    </tr>\n",
       "    <tr>\n",
       "      <th>3</th>\n",
       "      <td>4</td>\n",
       "      <td>Pandhu</td>\n",
       "      <td>17.0</td>\n",
       "      <td>43.0</td>\n",
       "      <td>9.0</td>\n",
       "      <td>9</td>\n",
       "      <td>8.00</td>\n",
       "      <td>72.5</td>\n",
       "    </tr>\n",
       "    <tr>\n",
       "      <th>4</th>\n",
       "      <td>5</td>\n",
       "      <td>Eswar</td>\n",
       "      <td>22.0</td>\n",
       "      <td>34.0</td>\n",
       "      <td>10.0</td>\n",
       "      <td>10</td>\n",
       "      <td>10.00</td>\n",
       "      <td>78.0</td>\n",
       "    </tr>\n",
       "  </tbody>\n",
       "</table>\n",
       "</div>"
      ],
      "text/plain": [
       "   Sl.No StudnetName  CAT-1  CAT-2  DA-1  DA-2   DA-3   FAT\n",
       "0      1  DeviPrasad   32.0   23.4  10.0    10   8.33  58.0\n",
       "1      2      Dellip   25.0   33.0   7.0     9  10.00  67.0\n",
       "2      3    Gayathri   32.6   44.0   7.6    10  10.00  92.0\n",
       "3      4      Pandhu   17.0   43.0   9.0     9   8.00  72.5\n",
       "4      5       Eswar   22.0   34.0  10.0    10  10.00  78.0"
      ]
     },
     "execution_count": 39,
     "metadata": {},
     "output_type": "execute_result"
    }
   ],
   "source": [
    "df2=pd.read_csv(r'student.csv')\n",
    "df2"
   ]
  },
  {
   "cell_type": "code",
   "execution_count": 40,
   "id": "8a581a94",
   "metadata": {},
   "outputs": [
    {
     "name": "stdout",
     "output_type": "stream",
     "text": [
      "   Sl.No StudnetName  CAT-1  CAT-2  DA-1  DA-2   DA-3   FAT\n",
      "0      1  DeviPrasad   32.0   23.4  10.0    10   8.33  58.0\n",
      "1      2      Dellip   25.0   33.0   7.0     9  10.00  67.0\n",
      "2      3    Gayathri   32.6   44.0   7.6    10  10.00  92.0\n",
      "3      4      Pandhu   17.0   43.0   9.0     9   8.00  72.5\n",
      "4      5       Eswar   22.0   34.0  10.0    10  10.00  78.0\n",
      "\n",
      "tail part\n",
      "\n",
      "   Sl.No StudnetName  CAT-1  CAT-2  DA-1  DA-2   DA-3   FAT\n",
      "0      1  DeviPrasad   32.0   23.4  10.0    10   8.33  58.0\n",
      "1      2      Dellip   25.0   33.0   7.0     9  10.00  67.0\n",
      "2      3    Gayathri   32.6   44.0   7.6    10  10.00  92.0\n",
      "3      4      Pandhu   17.0   43.0   9.0     9   8.00  72.5\n",
      "4      5       Eswar   22.0   34.0  10.0    10  10.00  78.0\n"
     ]
    }
   ],
   "source": [
    "file=pd.read_csv(r'student.csv')\n",
    "print(file.head(5))\n",
    "print(\"\\ntail part\\n\")\n",
    "print(file.tail(5))\n",
    "#read_excel('file.xlsx')\n",
    "#read_csv('file.txt',delimiter='\\t')\n"
   ]
  },
  {
   "cell_type": "code",
   "execution_count": 41,
   "id": "dfd48df7",
   "metadata": {},
   "outputs": [
    {
     "data": {
      "text/html": [
       "<div>\n",
       "<style scoped>\n",
       "    .dataframe tbody tr th:only-of-type {\n",
       "        vertical-align: middle;\n",
       "    }\n",
       "\n",
       "    .dataframe tbody tr th {\n",
       "        vertical-align: top;\n",
       "    }\n",
       "\n",
       "    .dataframe thead th {\n",
       "        text-align: right;\n",
       "    }\n",
       "</style>\n",
       "<table border=\"1\" class=\"dataframe\">\n",
       "  <thead>\n",
       "    <tr style=\"text-align: right;\">\n",
       "      <th></th>\n",
       "      <th>Sl.No</th>\n",
       "      <th>CAT-1</th>\n",
       "      <th>CAT-2</th>\n",
       "      <th>DA-1</th>\n",
       "      <th>DA-2</th>\n",
       "      <th>DA-3</th>\n",
       "      <th>FAT</th>\n",
       "    </tr>\n",
       "  </thead>\n",
       "  <tbody>\n",
       "    <tr>\n",
       "      <th>count</th>\n",
       "      <td>5.000000</td>\n",
       "      <td>5.000000</td>\n",
       "      <td>5.000000</td>\n",
       "      <td>5.0000</td>\n",
       "      <td>5.000000</td>\n",
       "      <td>5.00000</td>\n",
       "      <td>5.000000</td>\n",
       "    </tr>\n",
       "    <tr>\n",
       "      <th>mean</th>\n",
       "      <td>3.000000</td>\n",
       "      <td>25.720000</td>\n",
       "      <td>35.480000</td>\n",
       "      <td>8.7200</td>\n",
       "      <td>9.600000</td>\n",
       "      <td>9.26600</td>\n",
       "      <td>73.500000</td>\n",
       "    </tr>\n",
       "    <tr>\n",
       "      <th>std</th>\n",
       "      <td>1.581139</td>\n",
       "      <td>6.655224</td>\n",
       "      <td>8.417363</td>\n",
       "      <td>1.3755</td>\n",
       "      <td>0.547723</td>\n",
       "      <td>1.01182</td>\n",
       "      <td>12.708265</td>\n",
       "    </tr>\n",
       "    <tr>\n",
       "      <th>min</th>\n",
       "      <td>1.000000</td>\n",
       "      <td>17.000000</td>\n",
       "      <td>23.400000</td>\n",
       "      <td>7.0000</td>\n",
       "      <td>9.000000</td>\n",
       "      <td>8.00000</td>\n",
       "      <td>58.000000</td>\n",
       "    </tr>\n",
       "    <tr>\n",
       "      <th>25%</th>\n",
       "      <td>2.000000</td>\n",
       "      <td>22.000000</td>\n",
       "      <td>33.000000</td>\n",
       "      <td>7.6000</td>\n",
       "      <td>9.000000</td>\n",
       "      <td>8.33000</td>\n",
       "      <td>67.000000</td>\n",
       "    </tr>\n",
       "    <tr>\n",
       "      <th>50%</th>\n",
       "      <td>3.000000</td>\n",
       "      <td>25.000000</td>\n",
       "      <td>34.000000</td>\n",
       "      <td>9.0000</td>\n",
       "      <td>10.000000</td>\n",
       "      <td>10.00000</td>\n",
       "      <td>72.500000</td>\n",
       "    </tr>\n",
       "    <tr>\n",
       "      <th>75%</th>\n",
       "      <td>4.000000</td>\n",
       "      <td>32.000000</td>\n",
       "      <td>43.000000</td>\n",
       "      <td>10.0000</td>\n",
       "      <td>10.000000</td>\n",
       "      <td>10.00000</td>\n",
       "      <td>78.000000</td>\n",
       "    </tr>\n",
       "    <tr>\n",
       "      <th>max</th>\n",
       "      <td>5.000000</td>\n",
       "      <td>32.600000</td>\n",
       "      <td>44.000000</td>\n",
       "      <td>10.0000</td>\n",
       "      <td>10.000000</td>\n",
       "      <td>10.00000</td>\n",
       "      <td>92.000000</td>\n",
       "    </tr>\n",
       "  </tbody>\n",
       "</table>\n",
       "</div>"
      ],
      "text/plain": [
       "          Sl.No      CAT-1      CAT-2     DA-1       DA-2      DA-3        FAT\n",
       "count  5.000000   5.000000   5.000000   5.0000   5.000000   5.00000   5.000000\n",
       "mean   3.000000  25.720000  35.480000   8.7200   9.600000   9.26600  73.500000\n",
       "std    1.581139   6.655224   8.417363   1.3755   0.547723   1.01182  12.708265\n",
       "min    1.000000  17.000000  23.400000   7.0000   9.000000   8.00000  58.000000\n",
       "25%    2.000000  22.000000  33.000000   7.6000   9.000000   8.33000  67.000000\n",
       "50%    3.000000  25.000000  34.000000   9.0000  10.000000  10.00000  72.500000\n",
       "75%    4.000000  32.000000  43.000000  10.0000  10.000000  10.00000  78.000000\n",
       "max    5.000000  32.600000  44.000000  10.0000  10.000000  10.00000  92.000000"
      ]
     },
     "execution_count": 41,
     "metadata": {},
     "output_type": "execute_result"
    }
   ],
   "source": [
    "file.describe()"
   ]
  },
  {
   "cell_type": "code",
   "execution_count": 42,
   "id": "3b15029f",
   "metadata": {},
   "outputs": [
    {
     "data": {
      "text/html": [
       "<div>\n",
       "<style scoped>\n",
       "    .dataframe tbody tr th:only-of-type {\n",
       "        vertical-align: middle;\n",
       "    }\n",
       "\n",
       "    .dataframe tbody tr th {\n",
       "        vertical-align: top;\n",
       "    }\n",
       "\n",
       "    .dataframe thead th {\n",
       "        text-align: right;\n",
       "    }\n",
       "</style>\n",
       "<table border=\"1\" class=\"dataframe\">\n",
       "  <thead>\n",
       "    <tr style=\"text-align: right;\">\n",
       "      <th></th>\n",
       "      <th>Sl.No</th>\n",
       "      <th>StudnetName</th>\n",
       "      <th>CAT-1</th>\n",
       "      <th>CAT-2</th>\n",
       "      <th>DA-1</th>\n",
       "      <th>DA-2</th>\n",
       "      <th>DA-3</th>\n",
       "      <th>FAT</th>\n",
       "    </tr>\n",
       "  </thead>\n",
       "  <tbody>\n",
       "    <tr>\n",
       "      <th>0</th>\n",
       "      <td>1</td>\n",
       "      <td>DeviPrasad</td>\n",
       "      <td>32.0</td>\n",
       "      <td>23.4</td>\n",
       "      <td>10.0</td>\n",
       "      <td>10</td>\n",
       "      <td>8.33</td>\n",
       "      <td>58.0</td>\n",
       "    </tr>\n",
       "    <tr>\n",
       "      <th>1</th>\n",
       "      <td>2</td>\n",
       "      <td>Dellip</td>\n",
       "      <td>25.0</td>\n",
       "      <td>33.0</td>\n",
       "      <td>7.0</td>\n",
       "      <td>9</td>\n",
       "      <td>10.00</td>\n",
       "      <td>67.0</td>\n",
       "    </tr>\n",
       "    <tr>\n",
       "      <th>3</th>\n",
       "      <td>4</td>\n",
       "      <td>Pandhu</td>\n",
       "      <td>17.0</td>\n",
       "      <td>43.0</td>\n",
       "      <td>9.0</td>\n",
       "      <td>9</td>\n",
       "      <td>8.00</td>\n",
       "      <td>72.5</td>\n",
       "    </tr>\n",
       "    <tr>\n",
       "      <th>4</th>\n",
       "      <td>5</td>\n",
       "      <td>Eswar</td>\n",
       "      <td>22.0</td>\n",
       "      <td>34.0</td>\n",
       "      <td>10.0</td>\n",
       "      <td>10</td>\n",
       "      <td>10.00</td>\n",
       "      <td>78.0</td>\n",
       "    </tr>\n",
       "    <tr>\n",
       "      <th>2</th>\n",
       "      <td>3</td>\n",
       "      <td>Gayathri</td>\n",
       "      <td>32.6</td>\n",
       "      <td>44.0</td>\n",
       "      <td>7.6</td>\n",
       "      <td>10</td>\n",
       "      <td>10.00</td>\n",
       "      <td>92.0</td>\n",
       "    </tr>\n",
       "  </tbody>\n",
       "</table>\n",
       "</div>"
      ],
      "text/plain": [
       "   Sl.No StudnetName  CAT-1  CAT-2  DA-1  DA-2   DA-3   FAT\n",
       "0      1  DeviPrasad   32.0   23.4  10.0    10   8.33  58.0\n",
       "1      2      Dellip   25.0   33.0   7.0     9  10.00  67.0\n",
       "3      4      Pandhu   17.0   43.0   9.0     9   8.00  72.5\n",
       "4      5       Eswar   22.0   34.0  10.0    10  10.00  78.0\n",
       "2      3    Gayathri   32.6   44.0   7.6    10  10.00  92.0"
      ]
     },
     "execution_count": 42,
     "metadata": {},
     "output_type": "execute_result"
    }
   ],
   "source": [
    "file.sort_values('FAT')"
   ]
  },
  {
   "cell_type": "code",
   "execution_count": 43,
   "id": "f983ea97",
   "metadata": {},
   "outputs": [
    {
     "data": {
      "text/html": [
       "<div>\n",
       "<style scoped>\n",
       "    .dataframe tbody tr th:only-of-type {\n",
       "        vertical-align: middle;\n",
       "    }\n",
       "\n",
       "    .dataframe tbody tr th {\n",
       "        vertical-align: top;\n",
       "    }\n",
       "\n",
       "    .dataframe thead th {\n",
       "        text-align: right;\n",
       "    }\n",
       "</style>\n",
       "<table border=\"1\" class=\"dataframe\">\n",
       "  <thead>\n",
       "    <tr style=\"text-align: right;\">\n",
       "      <th></th>\n",
       "      <th>Sl.No</th>\n",
       "      <th>StudnetName</th>\n",
       "      <th>CAT-1</th>\n",
       "      <th>CAT-2</th>\n",
       "      <th>DA-1</th>\n",
       "      <th>DA-2</th>\n",
       "      <th>DA-3</th>\n",
       "      <th>FAT</th>\n",
       "    </tr>\n",
       "  </thead>\n",
       "  <tbody>\n",
       "    <tr>\n",
       "      <th>0</th>\n",
       "      <td>1</td>\n",
       "      <td>DeviPrasad</td>\n",
       "      <td>32.0</td>\n",
       "      <td>23.4</td>\n",
       "      <td>10.0</td>\n",
       "      <td>10</td>\n",
       "      <td>8.33</td>\n",
       "      <td>58.0</td>\n",
       "    </tr>\n",
       "    <tr>\n",
       "      <th>1</th>\n",
       "      <td>2</td>\n",
       "      <td>Dellip</td>\n",
       "      <td>25.0</td>\n",
       "      <td>33.0</td>\n",
       "      <td>7.0</td>\n",
       "      <td>9</td>\n",
       "      <td>10.00</td>\n",
       "      <td>67.0</td>\n",
       "    </tr>\n",
       "    <tr>\n",
       "      <th>2</th>\n",
       "      <td>3</td>\n",
       "      <td>Gayathri</td>\n",
       "      <td>32.6</td>\n",
       "      <td>44.0</td>\n",
       "      <td>7.6</td>\n",
       "      <td>10</td>\n",
       "      <td>10.00</td>\n",
       "      <td>92.0</td>\n",
       "    </tr>\n",
       "    <tr>\n",
       "      <th>3</th>\n",
       "      <td>4</td>\n",
       "      <td>Pandhu</td>\n",
       "      <td>17.0</td>\n",
       "      <td>43.0</td>\n",
       "      <td>9.0</td>\n",
       "      <td>9</td>\n",
       "      <td>8.00</td>\n",
       "      <td>72.5</td>\n",
       "    </tr>\n",
       "    <tr>\n",
       "      <th>4</th>\n",
       "      <td>5</td>\n",
       "      <td>Eswar</td>\n",
       "      <td>22.0</td>\n",
       "      <td>34.0</td>\n",
       "      <td>10.0</td>\n",
       "      <td>10</td>\n",
       "      <td>10.00</td>\n",
       "      <td>78.0</td>\n",
       "    </tr>\n",
       "  </tbody>\n",
       "</table>\n",
       "</div>"
      ],
      "text/plain": [
       "   Sl.No StudnetName  CAT-1  CAT-2  DA-1  DA-2   DA-3   FAT\n",
       "0      1  DeviPrasad   32.0   23.4  10.0    10   8.33  58.0\n",
       "1      2      Dellip   25.0   33.0   7.0     9  10.00  67.0\n",
       "2      3    Gayathri   32.6   44.0   7.6    10  10.00  92.0\n",
       "3      4      Pandhu   17.0   43.0   9.0     9   8.00  72.5\n",
       "4      5       Eswar   22.0   34.0  10.0    10  10.00  78.0"
      ]
     },
     "execution_count": 43,
     "metadata": {},
     "output_type": "execute_result"
    }
   ],
   "source": [
    "file.head(5)"
   ]
  },
  {
   "cell_type": "code",
   "execution_count": 44,
   "id": "af1b1997",
   "metadata": {},
   "outputs": [
    {
     "data": {
      "text/html": [
       "<div>\n",
       "<style scoped>\n",
       "    .dataframe tbody tr th:only-of-type {\n",
       "        vertical-align: middle;\n",
       "    }\n",
       "\n",
       "    .dataframe tbody tr th {\n",
       "        vertical-align: top;\n",
       "    }\n",
       "\n",
       "    .dataframe thead th {\n",
       "        text-align: right;\n",
       "    }\n",
       "</style>\n",
       "<table border=\"1\" class=\"dataframe\">\n",
       "  <thead>\n",
       "    <tr style=\"text-align: right;\">\n",
       "      <th></th>\n",
       "      <th>StudnetName</th>\n",
       "      <th>CAT-1</th>\n",
       "      <th>CAT-2</th>\n",
       "      <th>DA-1</th>\n",
       "      <th>DA-2</th>\n",
       "      <th>DA-3</th>\n",
       "      <th>FAT</th>\n",
       "    </tr>\n",
       "  </thead>\n",
       "  <tbody>\n",
       "    <tr>\n",
       "      <th>0</th>\n",
       "      <td>DeviPrasad</td>\n",
       "      <td>32.0</td>\n",
       "      <td>23.4</td>\n",
       "      <td>10.0</td>\n",
       "      <td>10</td>\n",
       "      <td>8.33</td>\n",
       "      <td>58.0</td>\n",
       "    </tr>\n",
       "    <tr>\n",
       "      <th>1</th>\n",
       "      <td>Dellip</td>\n",
       "      <td>25.0</td>\n",
       "      <td>33.0</td>\n",
       "      <td>7.0</td>\n",
       "      <td>9</td>\n",
       "      <td>10.00</td>\n",
       "      <td>67.0</td>\n",
       "    </tr>\n",
       "    <tr>\n",
       "      <th>2</th>\n",
       "      <td>Gayathri</td>\n",
       "      <td>32.6</td>\n",
       "      <td>44.0</td>\n",
       "      <td>7.6</td>\n",
       "      <td>10</td>\n",
       "      <td>10.00</td>\n",
       "      <td>92.0</td>\n",
       "    </tr>\n",
       "    <tr>\n",
       "      <th>3</th>\n",
       "      <td>Pandhu</td>\n",
       "      <td>17.0</td>\n",
       "      <td>43.0</td>\n",
       "      <td>9.0</td>\n",
       "      <td>9</td>\n",
       "      <td>8.00</td>\n",
       "      <td>72.5</td>\n",
       "    </tr>\n",
       "    <tr>\n",
       "      <th>4</th>\n",
       "      <td>Eswar</td>\n",
       "      <td>22.0</td>\n",
       "      <td>34.0</td>\n",
       "      <td>10.0</td>\n",
       "      <td>10</td>\n",
       "      <td>10.00</td>\n",
       "      <td>78.0</td>\n",
       "    </tr>\n",
       "  </tbody>\n",
       "</table>\n",
       "</div>"
      ],
      "text/plain": [
       "  StudnetName  CAT-1  CAT-2  DA-1  DA-2   DA-3   FAT\n",
       "0  DeviPrasad   32.0   23.4  10.0    10   8.33  58.0\n",
       "1      Dellip   25.0   33.0   7.0     9  10.00  67.0\n",
       "2    Gayathri   32.6   44.0   7.6    10  10.00  92.0\n",
       "3      Pandhu   17.0   43.0   9.0     9   8.00  72.5\n",
       "4       Eswar   22.0   34.0  10.0    10  10.00  78.0"
      ]
     },
     "execution_count": 44,
     "metadata": {},
     "output_type": "execute_result"
    }
   ],
   "source": [
    "file.drop(columns=['Sl.No'])"
   ]
  },
  {
   "cell_type": "code",
   "execution_count": null,
   "id": "c53e3d65",
   "metadata": {},
   "outputs": [],
   "source": []
  },
  {
   "cell_type": "code",
   "execution_count": 45,
   "id": "ba7c085d",
   "metadata": {
    "scrolled": true
   },
   "outputs": [
    {
     "data": {
      "text/html": [
       "<div>\n",
       "<style scoped>\n",
       "    .dataframe tbody tr th:only-of-type {\n",
       "        vertical-align: middle;\n",
       "    }\n",
       "\n",
       "    .dataframe tbody tr th {\n",
       "        vertical-align: top;\n",
       "    }\n",
       "\n",
       "    .dataframe thead th {\n",
       "        text-align: right;\n",
       "    }\n",
       "</style>\n",
       "<table border=\"1\" class=\"dataframe\">\n",
       "  <thead>\n",
       "    <tr style=\"text-align: right;\">\n",
       "      <th></th>\n",
       "      <th>Unnamed: 0</th>\n",
       "      <th>Sl.No</th>\n",
       "      <th>StudnetName</th>\n",
       "      <th>CAT-1</th>\n",
       "      <th>CAT-2</th>\n",
       "      <th>DA-1</th>\n",
       "      <th>DA-2</th>\n",
       "      <th>DA-3</th>\n",
       "      <th>FAT</th>\n",
       "    </tr>\n",
       "  </thead>\n",
       "  <tbody>\n",
       "    <tr>\n",
       "      <th>0</th>\n",
       "      <td>0</td>\n",
       "      <td>1</td>\n",
       "      <td>DeviPrasad</td>\n",
       "      <td>32.0</td>\n",
       "      <td>23.4</td>\n",
       "      <td>10.0</td>\n",
       "      <td>10</td>\n",
       "      <td>8.33</td>\n",
       "      <td>58.0</td>\n",
       "    </tr>\n",
       "    <tr>\n",
       "      <th>1</th>\n",
       "      <td>1</td>\n",
       "      <td>2</td>\n",
       "      <td>Dellip</td>\n",
       "      <td>25.0</td>\n",
       "      <td>33.0</td>\n",
       "      <td>7.0</td>\n",
       "      <td>9</td>\n",
       "      <td>10.00</td>\n",
       "      <td>67.0</td>\n",
       "    </tr>\n",
       "    <tr>\n",
       "      <th>2</th>\n",
       "      <td>2</td>\n",
       "      <td>3</td>\n",
       "      <td>Gayathri</td>\n",
       "      <td>32.6</td>\n",
       "      <td>44.0</td>\n",
       "      <td>7.6</td>\n",
       "      <td>10</td>\n",
       "      <td>10.00</td>\n",
       "      <td>92.0</td>\n",
       "    </tr>\n",
       "    <tr>\n",
       "      <th>3</th>\n",
       "      <td>3</td>\n",
       "      <td>4</td>\n",
       "      <td>Pandhu</td>\n",
       "      <td>17.0</td>\n",
       "      <td>43.0</td>\n",
       "      <td>9.0</td>\n",
       "      <td>9</td>\n",
       "      <td>8.00</td>\n",
       "      <td>72.5</td>\n",
       "    </tr>\n",
       "    <tr>\n",
       "      <th>4</th>\n",
       "      <td>4</td>\n",
       "      <td>5</td>\n",
       "      <td>Eswar</td>\n",
       "      <td>22.0</td>\n",
       "      <td>34.0</td>\n",
       "      <td>10.0</td>\n",
       "      <td>10</td>\n",
       "      <td>10.00</td>\n",
       "      <td>78.0</td>\n",
       "    </tr>\n",
       "  </tbody>\n",
       "</table>\n",
       "</div>"
      ],
      "text/plain": [
       "   Unnamed: 0  Sl.No StudnetName  CAT-1  CAT-2  DA-1  DA-2   DA-3   FAT\n",
       "0           0      1  DeviPrasad   32.0   23.4  10.0    10   8.33  58.0\n",
       "1           1      2      Dellip   25.0   33.0   7.0     9  10.00  67.0\n",
       "2           2      3    Gayathri   32.6   44.0   7.6    10  10.00  92.0\n",
       "3           3      4      Pandhu   17.0   43.0   9.0     9   8.00  72.5\n",
       "4           4      5       Eswar   22.0   34.0  10.0    10  10.00  78.0"
      ]
     },
     "execution_count": 45,
     "metadata": {},
     "output_type": "execute_result"
    }
   ],
   "source": [
    "file.to_csv('Modified.csv')\n",
    "file2=pd.read_csv('Modified.csv')\n",
    "#file.to_excel('Modified.xlsx' ,index=False)\n",
    "#file.to_csv('Modified.txt', index=False, sep='\\t')\n",
    "file2.head(5)"
   ]
  },
  {
   "cell_type": "code",
   "execution_count": 46,
   "id": "dd2cef16",
   "metadata": {
    "scrolled": true
   },
   "outputs": [
    {
     "data": {
      "text/html": [
       "<div>\n",
       "<style scoped>\n",
       "    .dataframe tbody tr th:only-of-type {\n",
       "        vertical-align: middle;\n",
       "    }\n",
       "\n",
       "    .dataframe tbody tr th {\n",
       "        vertical-align: top;\n",
       "    }\n",
       "\n",
       "    .dataframe thead th {\n",
       "        text-align: right;\n",
       "    }\n",
       "</style>\n",
       "<table border=\"1\" class=\"dataframe\">\n",
       "  <thead>\n",
       "    <tr style=\"text-align: right;\">\n",
       "      <th></th>\n",
       "      <th>Unnamed: 0</th>\n",
       "      <th>Sl.No</th>\n",
       "      <th>StudnetName</th>\n",
       "      <th>CAT-1</th>\n",
       "      <th>CAT-2</th>\n",
       "      <th>DA-1</th>\n",
       "      <th>DA-2</th>\n",
       "      <th>DA-3</th>\n",
       "      <th>FAT</th>\n",
       "    </tr>\n",
       "  </thead>\n",
       "  <tbody>\n",
       "    <tr>\n",
       "      <th>0</th>\n",
       "      <td>0</td>\n",
       "      <td>1</td>\n",
       "      <td>DeviPrasad</td>\n",
       "      <td>32.0</td>\n",
       "      <td>23.4</td>\n",
       "      <td>10.0</td>\n",
       "      <td>10</td>\n",
       "      <td>8.33</td>\n",
       "      <td>58.0</td>\n",
       "    </tr>\n",
       "    <tr>\n",
       "      <th>1</th>\n",
       "      <td>1</td>\n",
       "      <td>2</td>\n",
       "      <td>Dellip</td>\n",
       "      <td>25.0</td>\n",
       "      <td>33.0</td>\n",
       "      <td>7.0</td>\n",
       "      <td>9</td>\n",
       "      <td>10.00</td>\n",
       "      <td>67.0</td>\n",
       "    </tr>\n",
       "    <tr>\n",
       "      <th>2</th>\n",
       "      <td>2</td>\n",
       "      <td>3</td>\n",
       "      <td>Gayathri</td>\n",
       "      <td>32.6</td>\n",
       "      <td>44.0</td>\n",
       "      <td>7.6</td>\n",
       "      <td>10</td>\n",
       "      <td>10.00</td>\n",
       "      <td>92.0</td>\n",
       "    </tr>\n",
       "    <tr>\n",
       "      <th>3</th>\n",
       "      <td>3</td>\n",
       "      <td>4</td>\n",
       "      <td>Pandhu</td>\n",
       "      <td>17.0</td>\n",
       "      <td>43.0</td>\n",
       "      <td>9.0</td>\n",
       "      <td>9</td>\n",
       "      <td>8.00</td>\n",
       "      <td>72.5</td>\n",
       "    </tr>\n",
       "    <tr>\n",
       "      <th>4</th>\n",
       "      <td>4</td>\n",
       "      <td>5</td>\n",
       "      <td>Eswar</td>\n",
       "      <td>22.0</td>\n",
       "      <td>34.0</td>\n",
       "      <td>10.0</td>\n",
       "      <td>10</td>\n",
       "      <td>10.00</td>\n",
       "      <td>78.0</td>\n",
       "    </tr>\n",
       "  </tbody>\n",
       "</table>\n",
       "</div>"
      ],
      "text/plain": [
       "   Unnamed: 0  Sl.No StudnetName  CAT-1  CAT-2  DA-1  DA-2   DA-3   FAT\n",
       "0           0      1  DeviPrasad   32.0   23.4  10.0    10   8.33  58.0\n",
       "1           1      2      Dellip   25.0   33.0   7.0     9  10.00  67.0\n",
       "2           2      3    Gayathri   32.6   44.0   7.6    10  10.00  92.0\n",
       "3           3      4      Pandhu   17.0   43.0   9.0     9   8.00  72.5\n",
       "4           4      5       Eswar   22.0   34.0  10.0    10  10.00  78.0"
      ]
     },
     "execution_count": 46,
     "metadata": {},
     "output_type": "execute_result"
    }
   ],
   "source": [
    "file.to_csv('Modified.csv')\n",
    "file2=pd.read_csv('Modified.csv')\n",
    "#file.to_excel('Modified.xlsx' ,index=False)\n",
    "#file.to_csv('Modified.txt', index=False, sep='\\t')\n",
    "file2.head(5)"
   ]
  },
  {
   "cell_type": "code",
   "execution_count": 47,
   "id": "12550488",
   "metadata": {
    "scrolled": true
   },
   "outputs": [
    {
     "data": {
      "text/html": [
       "<div>\n",
       "<style scoped>\n",
       "    .dataframe tbody tr th:only-of-type {\n",
       "        vertical-align: middle;\n",
       "    }\n",
       "\n",
       "    .dataframe tbody tr th {\n",
       "        vertical-align: top;\n",
       "    }\n",
       "\n",
       "    .dataframe thead th {\n",
       "        text-align: right;\n",
       "    }\n",
       "</style>\n",
       "<table border=\"1\" class=\"dataframe\">\n",
       "  <thead>\n",
       "    <tr style=\"text-align: right;\">\n",
       "      <th></th>\n",
       "      <th>Unnamed: 0</th>\n",
       "      <th>Sl.No</th>\n",
       "      <th>StudnetName</th>\n",
       "      <th>CAT-1</th>\n",
       "      <th>CAT-2</th>\n",
       "      <th>DA-1</th>\n",
       "      <th>DA-2</th>\n",
       "      <th>DA-3</th>\n",
       "      <th>FAT</th>\n",
       "    </tr>\n",
       "  </thead>\n",
       "  <tbody>\n",
       "    <tr>\n",
       "      <th>0</th>\n",
       "      <td>0</td>\n",
       "      <td>1</td>\n",
       "      <td>DeviPrasad</td>\n",
       "      <td>32.0</td>\n",
       "      <td>23.4</td>\n",
       "      <td>10.0</td>\n",
       "      <td>10</td>\n",
       "      <td>8.33</td>\n",
       "      <td>58.0</td>\n",
       "    </tr>\n",
       "    <tr>\n",
       "      <th>1</th>\n",
       "      <td>1</td>\n",
       "      <td>2</td>\n",
       "      <td>Dellip</td>\n",
       "      <td>25.0</td>\n",
       "      <td>33.0</td>\n",
       "      <td>7.0</td>\n",
       "      <td>9</td>\n",
       "      <td>10.00</td>\n",
       "      <td>67.0</td>\n",
       "    </tr>\n",
       "    <tr>\n",
       "      <th>2</th>\n",
       "      <td>2</td>\n",
       "      <td>3</td>\n",
       "      <td>Gayathri</td>\n",
       "      <td>32.6</td>\n",
       "      <td>44.0</td>\n",
       "      <td>7.6</td>\n",
       "      <td>10</td>\n",
       "      <td>10.00</td>\n",
       "      <td>92.0</td>\n",
       "    </tr>\n",
       "    <tr>\n",
       "      <th>3</th>\n",
       "      <td>3</td>\n",
       "      <td>4</td>\n",
       "      <td>Pandhu</td>\n",
       "      <td>17.0</td>\n",
       "      <td>43.0</td>\n",
       "      <td>9.0</td>\n",
       "      <td>9</td>\n",
       "      <td>8.00</td>\n",
       "      <td>72.5</td>\n",
       "    </tr>\n",
       "    <tr>\n",
       "      <th>4</th>\n",
       "      <td>4</td>\n",
       "      <td>5</td>\n",
       "      <td>Eswar</td>\n",
       "      <td>22.0</td>\n",
       "      <td>34.0</td>\n",
       "      <td>10.0</td>\n",
       "      <td>10</td>\n",
       "      <td>10.00</td>\n",
       "      <td>78.0</td>\n",
       "    </tr>\n",
       "  </tbody>\n",
       "</table>\n",
       "</div>"
      ],
      "text/plain": [
       "   Unnamed: 0  Sl.No StudnetName  CAT-1  CAT-2  DA-1  DA-2   DA-3   FAT\n",
       "0           0      1  DeviPrasad   32.0   23.4  10.0    10   8.33  58.0\n",
       "1           1      2      Dellip   25.0   33.0   7.0     9  10.00  67.0\n",
       "2           2      3    Gayathri   32.6   44.0   7.6    10  10.00  92.0\n",
       "3           3      4      Pandhu   17.0   43.0   9.0     9   8.00  72.5\n",
       "4           4      5       Eswar   22.0   34.0  10.0    10  10.00  78.0"
      ]
     },
     "execution_count": 47,
     "metadata": {},
     "output_type": "execute_result"
    }
   ],
   "source": [
    "file.to_csv('Modified.csv')\n",
    "file2=pd.read_csv('Modified.csv')\n",
    "#file.to_excel('Modified.xlsx' ,index=False)\n",
    "#file.to_csv('Modified.txt', index=False, sep='\\t')\n",
    "file2.head(5)"
   ]
  },
  {
   "cell_type": "code",
   "execution_count": 48,
   "id": "07084b00",
   "metadata": {
    "scrolled": true
   },
   "outputs": [
    {
     "data": {
      "text/html": [
       "<div>\n",
       "<style scoped>\n",
       "    .dataframe tbody tr th:only-of-type {\n",
       "        vertical-align: middle;\n",
       "    }\n",
       "\n",
       "    .dataframe tbody tr th {\n",
       "        vertical-align: top;\n",
       "    }\n",
       "\n",
       "    .dataframe thead th {\n",
       "        text-align: right;\n",
       "    }\n",
       "</style>\n",
       "<table border=\"1\" class=\"dataframe\">\n",
       "  <thead>\n",
       "    <tr style=\"text-align: right;\">\n",
       "      <th></th>\n",
       "      <th>Unnamed: 0</th>\n",
       "      <th>Sl.No</th>\n",
       "      <th>StudnetName</th>\n",
       "      <th>CAT-1</th>\n",
       "      <th>CAT-2</th>\n",
       "      <th>DA-1</th>\n",
       "      <th>DA-2</th>\n",
       "      <th>DA-3</th>\n",
       "      <th>FAT</th>\n",
       "    </tr>\n",
       "  </thead>\n",
       "  <tbody>\n",
       "    <tr>\n",
       "      <th>0</th>\n",
       "      <td>0</td>\n",
       "      <td>1</td>\n",
       "      <td>DeviPrasad</td>\n",
       "      <td>32.0</td>\n",
       "      <td>23.4</td>\n",
       "      <td>10.0</td>\n",
       "      <td>10</td>\n",
       "      <td>8.33</td>\n",
       "      <td>58.0</td>\n",
       "    </tr>\n",
       "    <tr>\n",
       "      <th>1</th>\n",
       "      <td>1</td>\n",
       "      <td>2</td>\n",
       "      <td>Dellip</td>\n",
       "      <td>25.0</td>\n",
       "      <td>33.0</td>\n",
       "      <td>7.0</td>\n",
       "      <td>9</td>\n",
       "      <td>10.00</td>\n",
       "      <td>67.0</td>\n",
       "    </tr>\n",
       "    <tr>\n",
       "      <th>2</th>\n",
       "      <td>2</td>\n",
       "      <td>3</td>\n",
       "      <td>Gayathri</td>\n",
       "      <td>32.6</td>\n",
       "      <td>44.0</td>\n",
       "      <td>7.6</td>\n",
       "      <td>10</td>\n",
       "      <td>10.00</td>\n",
       "      <td>92.0</td>\n",
       "    </tr>\n",
       "    <tr>\n",
       "      <th>3</th>\n",
       "      <td>3</td>\n",
       "      <td>4</td>\n",
       "      <td>Pandhu</td>\n",
       "      <td>17.0</td>\n",
       "      <td>43.0</td>\n",
       "      <td>9.0</td>\n",
       "      <td>9</td>\n",
       "      <td>8.00</td>\n",
       "      <td>72.5</td>\n",
       "    </tr>\n",
       "    <tr>\n",
       "      <th>4</th>\n",
       "      <td>4</td>\n",
       "      <td>5</td>\n",
       "      <td>Eswar</td>\n",
       "      <td>22.0</td>\n",
       "      <td>34.0</td>\n",
       "      <td>10.0</td>\n",
       "      <td>10</td>\n",
       "      <td>10.00</td>\n",
       "      <td>78.0</td>\n",
       "    </tr>\n",
       "  </tbody>\n",
       "</table>\n",
       "</div>"
      ],
      "text/plain": [
       "   Unnamed: 0  Sl.No StudnetName  CAT-1  CAT-2  DA-1  DA-2   DA-3   FAT\n",
       "0           0      1  DeviPrasad   32.0   23.4  10.0    10   8.33  58.0\n",
       "1           1      2      Dellip   25.0   33.0   7.0     9  10.00  67.0\n",
       "2           2      3    Gayathri   32.6   44.0   7.6    10  10.00  92.0\n",
       "3           3      4      Pandhu   17.0   43.0   9.0     9   8.00  72.5\n",
       "4           4      5       Eswar   22.0   34.0  10.0    10  10.00  78.0"
      ]
     },
     "execution_count": 48,
     "metadata": {},
     "output_type": "execute_result"
    }
   ],
   "source": [
    "file.to_csv('Modified.csv')\n",
    "file2=pd.read_csv('Modified.csv')\n",
    "#file.to_excel('Modified.xlsx' ,index=False)\n",
    "#file.to_csv('Modified.txt', index=False, sep='\\t')\n",
    "file2.head(5)"
   ]
  },
  {
   "cell_type": "code",
   "execution_count": 49,
   "id": "ccaa02bf",
   "metadata": {},
   "outputs": [
    {
     "name": "stdout",
     "output_type": "stream",
     "text": [
      "(5, 8)\n",
      "   Sl.No StudnetName  CAT-1  CAT-2  DA-1  DA-2   DA-3   FAT\n",
      "0      1  DeviPrasad   32.0   23.4  10.0    10   8.33  58.0\n",
      "1      2      Dellip   25.0   33.0   7.0     9  10.00  67.0\n",
      "2      3    Gayathri   32.6   44.0   7.6    10  10.00  92.0\n"
     ]
    }
   ],
   "source": [
    "from pandas import read_csv\n",
    "path = r\"student.csv\"\n",
    "data = read_csv(path)\n",
    "print(data.shape)\n",
    "print(data[:3])"
   ]
  },
  {
   "cell_type": "code",
   "execution_count": 50,
   "id": "e88e1b28",
   "metadata": {},
   "outputs": [
    {
     "name": "stdout",
     "output_type": "stream",
     "text": [
      "    preg  plas  pres  skin  test  mass   pedi  age  class\n",
      "0      6   148    72    35     0  33.6  0.627   50      1\n",
      "1      1    85    66    29     0  26.6  0.351   31      0\n",
      "2      8   183    64     0     0  23.3  0.672   32      1\n",
      "3      1    89    66    23    94  28.1  0.167   21      0\n",
      "4      0   137    40    35   168  43.1  2.288   33      1\n",
      "5      5   116    74     0     0  25.6  0.201   30      0\n",
      "6      3    78    50    32    88  31.0  0.248   26      1\n",
      "7     10   115     0     0     0  35.3  0.134   29      0\n",
      "8      2   197    70    45   543  30.5  0.158   53      1\n",
      "9      8   125    96     0     0   0.0  0.232   54      1\n",
      "10     4   110    92     0     0  37.6  0.191   30      0\n",
      "11    10   168    74     0     0  38.0  0.537   34      1\n",
      "12    10   139    80     0     0  27.1  1.441   57      0\n",
      "13     1   189    60    23   846  30.1  0.398   59      1\n",
      "14     5   166    72    19   175  25.8  0.587   51      1\n",
      "15     7   100     0     0     0  30.0  0.484   32      1\n",
      "16     0   118    84    47   230  45.8  0.551   31      1\n",
      "17     7   107    74     0     0  29.6  0.254   31      1\n",
      "18     1   103    30    38    83  43.3  0.183   33      0\n",
      "19     1   115    70    30    96  34.6  0.529   32      1\n",
      "20     3   126    88    41   235  39.3  0.704   27      0\n",
      "21     8    99    84     0     0  35.4  0.388   50      0\n",
      "22     7   196    90     0     0  39.8  0.451   41      1\n",
      "23     9   119    80    35     0  29.0  0.263   29      1\n",
      "24    11   143    94    33   146  36.6  0.254   51      1\n",
      "25    10   125    70    26   115  31.1  0.205   41      1\n",
      "26     7   147    76     0     0  39.4  0.257   43      1\n",
      "27     1    97    66    15   140  23.2  0.487   22      0\n",
      "28    13   145    82    19   110  22.2  0.245   57      0\n",
      "29     5   117    92     0     0  34.1  0.337   38      0\n",
      "30     5   109    75    26     0  36.0  0.546   60      0\n",
      "31     3   158    76    36   245  31.6  0.851   28      1\n",
      "32     3    88    58    11    54  24.8  0.267   22      0\n",
      "33     6    92    92     0     0  19.9  0.188   28      0\n",
      "34    10   122    78    31     0  27.6  0.512   45      0\n",
      "35     4   103    60    33   192  24.0  0.966   33      0\n",
      "36    11   138    76     0     0  33.2  0.420   35      0\n",
      "37     9   102    76    37     0  32.9  0.665   46      1\n",
      "38     2    90    68    42     0  38.2  0.503   27      1\n",
      "39     4   111    72    47   207  37.1  1.390   56      1\n",
      "40     3   180    64    25    70  34.0  0.271   26      0\n",
      "41     7   133    84     0     0  40.2  0.696   37      0\n",
      "42     7   106    92    18     0  22.7  0.235   48      0\n",
      "43     9   171   110    24   240  45.4  0.721   54      1\n",
      "44     7   159    64     0     0  27.4  0.294   40      0\n",
      "45     0   180    66    39     0  42.0  1.893   25      1\n",
      "46     1   146    56     0     0  29.7  0.564   29      0\n",
      "47     2    71    70    27     0  28.0  0.586   22      0\n",
      "48     7   103    66    32     0  39.1  0.344   31      1\n",
      "49     7   105     0     0     0   0.0  0.305   24      0\n"
     ]
    }
   ],
   "source": [
    "from pandas import read_csv\n",
    "path = r\"pima-indians-diabetes.csv\"\n",
    "headernames = ['preg', 'plas', 'pres', 'skin', 'test', 'mass', 'pedi', 'age','class']\n",
    "data = read_csv(path, names=headernames)\n",
    "print(data.head(50))"
   ]
  },
  {
   "cell_type": "code",
   "execution_count": 51,
   "id": "5f4781dd",
   "metadata": {},
   "outputs": [
    {
     "name": "stdout",
     "output_type": "stream",
     "text": [
      "(767, 9)\n"
     ]
    }
   ],
   "source": [
    "from pandas import read_csv\n",
    "path = r\"pima-indians-diabetes.csv\"\n",
    "data = read_csv(path)\n",
    "print(data.shape)"
   ]
  },
  {
   "cell_type": "code",
   "execution_count": 52,
   "id": "2bd831b3",
   "metadata": {},
   "outputs": [
    {
     "name": "stdout",
     "output_type": "stream",
     "text": [
      "6          int64\n",
      "148        int64\n",
      "72         int64\n",
      "35         int64\n",
      "0          int64\n",
      "33.6     float64\n",
      "0.627    float64\n",
      "50         int64\n",
      "1          int64\n",
      "dtype: object\n"
     ]
    }
   ],
   "source": [
    "from pandas import read_csv\n",
    "path = r\"pima-indians-diabetes.csv\"\n",
    "data = read_csv(path)\n",
    "print(data.dtypes)"
   ]
  },
  {
   "cell_type": "code",
   "execution_count": 53,
   "id": "32ab06e4",
   "metadata": {},
   "outputs": [
    {
     "name": "stdout",
     "output_type": "stream",
     "text": [
      "(768, 9)\n",
      "         preg    plas    pres    skin    test    mass    pedi     age   class\n",
      "count  768.00  768.00  768.00  768.00  768.00  768.00  768.00  768.00  768.00\n",
      "mean     3.85  120.89   69.11   20.54   79.80   31.99    0.47   33.24    0.35\n",
      "std      3.37   31.97   19.36   15.95  115.24    7.88    0.33   11.76    0.48\n",
      "min      0.00    0.00    0.00    0.00    0.00    0.00    0.08   21.00    0.00\n",
      "25%      1.00   99.00   62.00    0.00    0.00   27.30    0.24   24.00    0.00\n",
      "50%      3.00  117.00   72.00   23.00   30.50   32.00    0.37   29.00    0.00\n",
      "75%      6.00  140.25   80.00   32.00  127.25   36.60    0.63   41.00    1.00\n",
      "max     17.00  199.00  122.00   99.00  846.00   67.10    2.42   81.00    1.00\n"
     ]
    }
   ],
   "source": [
    "from pandas import read_csv\n",
    "from pandas import set_option\n",
    "path = r\"pima-indians-diabetes.csv\"\n",
    "names = ['preg', 'plas', 'pres', 'skin', 'test', 'mass', 'pedi', 'age',\n",
    "'class']\n",
    "data = read_csv(path, names=names)\n",
    "set_option('display.width', 100)\n",
    "set_option('precision', 2)\n",
    "print(data.shape)\n",
    "print(data.describe())"
   ]
  },
  {
   "cell_type": "code",
   "execution_count": 54,
   "id": "da1ad81e",
   "metadata": {},
   "outputs": [
    {
     "name": "stdout",
     "output_type": "stream",
     "text": [
      "class\n",
      "0    500\n",
      "1    268\n",
      "dtype: int64\n"
     ]
    }
   ],
   "source": [
    "from pandas import read_csv\n",
    "path = r\"pima-indians-diabetes.csv\"\n",
    "names = ['preg', 'plas', 'pres', 'skin', 'test', 'mass', 'pedi', 'age',\n",
    "'class']\n",
    "data = read_csv(path, names=names)\n",
    "count_class = data.groupby('class').size()\n",
    "print(count_class)"
   ]
  },
  {
   "cell_type": "code",
   "execution_count": 55,
   "id": "e8d34ec9",
   "metadata": {},
   "outputs": [
    {
     "name": "stdout",
     "output_type": "stream",
     "text": [
      "       preg  plas  pres  skin  test  mass  pedi   age  class\n",
      "preg   1.00  0.13  0.14 -0.08 -0.07  0.02 -0.03  0.54   0.22\n",
      "plas   0.13  1.00  0.15  0.06  0.33  0.22  0.14  0.26   0.47\n",
      "pres   0.14  0.15  1.00  0.21  0.09  0.28  0.04  0.24   0.07\n",
      "skin  -0.08  0.06  0.21  1.00  0.44  0.39  0.18 -0.11   0.07\n",
      "test  -0.07  0.33  0.09  0.44  1.00  0.20  0.19 -0.04   0.13\n",
      "mass   0.02  0.22  0.28  0.39  0.20  1.00  0.14  0.04   0.29\n",
      "pedi  -0.03  0.14  0.04  0.18  0.19  0.14  1.00  0.03   0.17\n",
      "age    0.54  0.26  0.24 -0.11 -0.04  0.04  0.03  1.00   0.24\n",
      "class  0.22  0.47  0.07  0.07  0.13  0.29  0.17  0.24   1.00\n"
     ]
    }
   ],
   "source": [
    "from pandas import read_csv\n",
    "from pandas import set_option\n",
    "path = r\"pima-indians-diabetes.csv\"\n",
    "names = ['preg', 'plas', 'pres', 'skin', 'test', 'mass', 'pedi', 'age',\n",
    "'class']\n",
    "data = read_csv(path, names=names)\n",
    "set_option('display.width', 100)\n",
    "set_option('precision', 2)\n",
    "correlations = data.corr(method='pearson')\n",
    "print(correlations)"
   ]
  },
  {
   "cell_type": "code",
   "execution_count": 56,
   "id": "ca6a0e34",
   "metadata": {},
   "outputs": [
    {
     "name": "stdout",
     "output_type": "stream",
     "text": [
      "preg     0.90\n",
      "plas     0.17\n",
      "pres    -1.84\n",
      "skin     0.11\n",
      "test     2.27\n",
      "mass    -0.43\n",
      "pedi     1.92\n",
      "age      1.13\n",
      "class    0.64\n",
      "dtype: float64\n"
     ]
    }
   ],
   "source": [
    "from pandas import read_csv\n",
    "path = r\"pima-indians-diabetes.csv\"\n",
    "names = ['preg', 'plas', 'pres', 'skin', 'test', 'mass', 'pedi', 'age',\n",
    "'class']\n",
    "data = read_csv(path, names=names)\n",
    "print(data.skew())"
   ]
  },
  {
   "cell_type": "markdown",
   "id": "581943a0",
   "metadata": {},
   "source": [
    "# Creating data frames"
   ]
  },
  {
   "cell_type": "code",
   "execution_count": 58,
   "id": "61b88b90",
   "metadata": {},
   "outputs": [
    {
     "name": "stdout",
     "output_type": "stream",
     "text": [
      "population:\n",
      "    ca  tx  md\n",
      "0  35  23   5\n",
      "1  37  24   5\n",
      "2  38  26   6 \n",
      "\n"
     ]
    }
   ],
   "source": [
    "df = {'ca': [35, 37, 38], 'tx': [23, 24, 26], 'md': [5,5,6]}\n",
    "pop = pd.DataFrame(df)\n",
    "print('population:\\n', pop, '\\n')"
   ]
  },
  {
   "cell_type": "code",
   "execution_count": 59,
   "id": "a8f893b1",
   "metadata": {},
   "outputs": [
    {
     "name": "stdout",
     "output_type": "stream",
     "text": [
      "population:\n",
      "       ca  tx  md\n",
      "2010  35  23   5\n",
      "2012  37  24   5\n",
      "2014  38  26   6 \n",
      "\n"
     ]
    }
   ],
   "source": [
    "pop = pd.DataFrame(df, index = [2010,2012,2014])\n",
    "print('population:\\n', pop, '\\n')"
   ]
  },
  {
   "cell_type": "markdown",
   "id": "34feefa7",
   "metadata": {},
   "source": [
    "# Positional indexing of data frames"
   ]
  },
  {
   "cell_type": "code",
   "execution_count": 61,
   "id": "429283a3",
   "metadata": {},
   "outputs": [
    {
     "data": {
      "text/html": [
       "<div>\n",
       "<style scoped>\n",
       "    .dataframe tbody tr th:only-of-type {\n",
       "        vertical-align: middle;\n",
       "    }\n",
       "\n",
       "    .dataframe tbody tr th {\n",
       "        vertical-align: top;\n",
       "    }\n",
       "\n",
       "    .dataframe thead th {\n",
       "        text-align: right;\n",
       "    }\n",
       "</style>\n",
       "<table border=\"1\" class=\"dataframe\">\n",
       "  <thead>\n",
       "    <tr style=\"text-align: right;\">\n",
       "      <th></th>\n",
       "      <th>capital</th>\n",
       "      <th>population</th>\n",
       "    </tr>\n",
       "  </thead>\n",
       "  <tbody>\n",
       "    <tr>\n",
       "      <th>AP</th>\n",
       "      <td>Amaravathi</td>\n",
       "      <td>32.7</td>\n",
       "    </tr>\n",
       "    <tr>\n",
       "      <th>TN</th>\n",
       "      <td>Chennai</td>\n",
       "      <td>26.7</td>\n",
       "    </tr>\n",
       "    <tr>\n",
       "      <th>KERALA</th>\n",
       "      <td>Kerala</td>\n",
       "      <td>15.3</td>\n",
       "    </tr>\n",
       "  </tbody>\n",
       "</table>\n",
       "</div>"
      ],
      "text/plain": [
       "           capital  population\n",
       "AP      Amaravathi        32.7\n",
       "TN         Chennai        26.7\n",
       "KERALA      Kerala        15.3"
      ]
     },
     "execution_count": 61,
     "metadata": {},
     "output_type": "execute_result"
    }
   ],
   "source": [
    "data = pd.DataFrame({\"capital\":[\"Amaravathi\", \"Chennai\", \"Kerala\"],\n",
    "                     \"population\":[32.7, 26.7, 15.3]},  # in millions\n",
    "                    index=[\"AP\", \"TN\", \"KERALA\"])\n",
    "data"
   ]
  }
 ],
 "metadata": {
  "kernelspec": {
   "display_name": "Python 3 (ipykernel)",
   "language": "python",
   "name": "python3"
  },
  "language_info": {
   "codemirror_mode": {
    "name": "ipython",
    "version": 3
   },
   "file_extension": ".py",
   "mimetype": "text/x-python",
   "name": "python",
   "nbconvert_exporter": "python",
   "pygments_lexer": "ipython3",
   "version": "3.9.5"
  }
 },
 "nbformat": 4,
 "nbformat_minor": 5
}
